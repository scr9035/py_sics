{
 "cells": [
  {
   "cell_type": "markdown",
   "metadata": {},
   "source": [
    "#Calculate the slope $(\\frac{dR}{dL})_{ii}$ from raw strain sweeps\n",
    "\n",
    "1. Input the file name\n",
    "2. Input the current, gain, and gauge factor\n",
    "3. Set the correct column for samples, strain gauge and temperature/field\n",
    "4. Determine the number of voltage loops to average over\n",
    "5. Set the file name to save the plot\n",
    "\n",
    "####The program then graphs the slope as a function of the tuning parameter.\n",
    "\n"
   ]
  },
  {
   "cell_type": "code",
   "execution_count": 2,
   "metadata": {
    "collapsed": false
   },
   "outputs": [],
   "source": [
    "%matplotlib inline "
   ]
  },
  {
   "cell_type": "code",
   "execution_count": 3,
   "metadata": {
    "collapsed": false
   },
   "outputs": [],
   "source": [
    "import matplotlib.pyplot as plt\n",
    "import numpy as np\n",
    "import scipy as sp"
   ]
  },
  {
   "cell_type": "markdown",
   "metadata": {},
   "source": [
    "##1. Input File Name"
   ]
  },
  {
   "cell_type": "code",
   "execution_count": 7,
   "metadata": {
    "collapsed": false
   },
   "outputs": [],
   "source": [
    "openFileName = 'URu2Si2_test.dat'                 # <--- right here if it isn't obvious\n",
    "datafile001 = np.array(np.loadtxt(openFileName))"
   ]
  },
  {
   "cell_type": "markdown",
   "metadata": {},
   "source": [
    "##2. Input the experimental settings \n",
    "##3. Set the columns. Column variables all start with $\\textit{col_}$\n",
    "##4. Set the # of strain sweeps  to loop over (100 points per sweep). Variable is voltage_loops"
   ]
  },
  {
   "cell_type": "code",
   "execution_count": 8,
   "metadata": {
    "collapsed": false
   },
   "outputs": [],
   "source": [
    "#INPUT PARAMETERS HERE\n",
    "\n",
    "col_sample_dV = 1\n",
    "col_sample_V = 2\n",
    "\n",
    "col_sg_dV = 5\n",
    "col_sg_V = 6\n",
    "\n",
    "current_sample = 1E-3\n",
    "current_sg = 1E-3\n",
    "\n",
    "gain_sample = 1000\n",
    "gain_sg = 1\n",
    "\n",
    "gauge_factor = 2.02\n",
    "\n",
    "temp_col = 3\n",
    "\n",
    "voltage_loops = 100"
   ]
  },
  {
   "cell_type": "code",
   "execution_count": 9,
   "metadata": {
    "collapsed": false
   },
   "outputs": [],
   "source": [
    "sample_dR = datafile001[:,col_sample_dV] / (current_sample*gain_sample) #sample dR\n",
    "sample_R = datafile001[:,col_sample_V] / (current_sample*gain_sample) #sample R\n",
    "sg_dR = datafile001[:,col_sg_dV] / (current_sg*gain_sg) #strain gauge dR\n",
    "sg_R = datafile001[:,col_sg_V] / (current_sg*gain_sg) #strain gauge R\n",
    "temperature = datafile001[:,temp_col]"
   ]
  },
  {
   "cell_type": "code",
   "execution_count": 10,
   "metadata": {
    "collapsed": false
   },
   "outputs": [],
   "source": [
    "dRdivR_sample = sample_dR / sample_R[0] # creates a dR/R\n",
    "dRdivR_sg = sg_dR / sg_R[0] #creates a dR/R for the strain gauge\n",
    "\n",
    "dLdivL = dRdivR_sg/gauge_factor #finds dL/L for strain gauge"
   ]
  },
  {
   "cell_type": "code",
   "execution_count": 11,
   "metadata": {
    "collapsed": false
   },
   "outputs": [
    {
     "name": "stderr",
     "output_type": "stream",
     "text": [
      "/home/scott/Enthought/Canopy_64bit/User/lib/python2.7/site-packages/numpy/lib/polynomial.py:587: RankWarning: Polyfit may be poorly conditioned\n",
      "  warnings.warn(msg, RankWarning)\n",
      "/home/scott/Enthought/Canopy_64bit/User/lib/python2.7/site-packages/numpy/lib/polynomial.py:587: RankWarning: Polyfit may be poorly conditioned\n",
      "  warnings.warn(msg, RankWarning)\n",
      "/home/scott/Enthought/Canopy_64bit/User/lib/python2.7/site-packages/numpy/lib/polynomial.py:587: RankWarning: Polyfit may be poorly conditioned\n",
      "  warnings.warn(msg, RankWarning)\n",
      "/home/scott/Enthought/Canopy_64bit/User/lib/python2.7/site-packages/numpy/lib/polynomial.py:587: RankWarning: Polyfit may be poorly conditioned\n",
      "  warnings.warn(msg, RankWarning)\n",
      "/home/scott/Enthought/Canopy_64bit/User/lib/python2.7/site-packages/numpy/lib/polynomial.py:587: RankWarning: Polyfit may be poorly conditioned\n",
      "  warnings.warn(msg, RankWarning)\n",
      "/home/scott/Enthought/Canopy_64bit/User/lib/python2.7/site-packages/numpy/lib/polynomial.py:587: RankWarning: Polyfit may be poorly conditioned\n",
      "  warnings.warn(msg, RankWarning)\n",
      "/home/scott/Enthought/Canopy_64bit/User/lib/python2.7/site-packages/numpy/lib/polynomial.py:587: RankWarning: Polyfit may be poorly conditioned\n",
      "  warnings.warn(msg, RankWarning)\n",
      "/home/scott/Enthought/Canopy_64bit/User/lib/python2.7/site-packages/numpy/lib/polynomial.py:587: RankWarning: Polyfit may be poorly conditioned\n",
      "  warnings.warn(msg, RankWarning)\n",
      "/home/scott/Enthought/Canopy_64bit/User/lib/python2.7/site-packages/numpy/lib/polynomial.py:587: RankWarning: Polyfit may be poorly conditioned\n",
      "  warnings.warn(msg, RankWarning)\n",
      "/home/scott/Enthought/Canopy_64bit/User/lib/python2.7/site-packages/numpy/lib/polynomial.py:587: RankWarning: Polyfit may be poorly conditioned\n",
      "  warnings.warn(msg, RankWarning)\n",
      "/home/scott/Enthought/Canopy_64bit/User/lib/python2.7/site-packages/numpy/lib/polynomial.py:587: RankWarning: Polyfit may be poorly conditioned\n",
      "  warnings.warn(msg, RankWarning)\n",
      "/home/scott/Enthought/Canopy_64bit/User/lib/python2.7/site-packages/numpy/lib/polynomial.py:587: RankWarning: Polyfit may be poorly conditioned\n",
      "  warnings.warn(msg, RankWarning)\n",
      "/home/scott/Enthought/Canopy_64bit/User/lib/python2.7/site-packages/numpy/lib/polynomial.py:587: RankWarning: Polyfit may be poorly conditioned\n",
      "  warnings.warn(msg, RankWarning)\n",
      "/home/scott/Enthought/Canopy_64bit/User/lib/python2.7/site-packages/numpy/lib/polynomial.py:587: RankWarning: Polyfit may be poorly conditioned\n",
      "  warnings.warn(msg, RankWarning)\n"
     ]
    }
   ],
   "source": [
    "#loop over every 100 points until end of array and find slope\n",
    "#avg temperature over these points\n",
    "#save slope and temperature\n",
    "#If the fit is bad, output still works! Can easily clean\n",
    "#    the bad slope data later\n",
    "\n",
    "temp = []\n",
    "slope = []\n",
    "\n",
    "loop_counter = len(dLdivL)/voltage_loops\n",
    "\n",
    "for i in np.arange(loop_counter):\n",
    "    fit = np.polyfit(dLdivL[i*voltage_loops:(i+1)*voltage_loops], \n",
    "                     dRdivR_sample[i*voltage_loops:(i+1)*voltage_loops],1)\n",
    "    \n",
    "    #x = np.linspace(dLdivL[i*voltage_loops:(i+1)*voltage_loops].min(), \n",
    "    #                dLdivL[i*voltage_loops:(i+1)*voltage_loops].max())\n",
    "    \n",
    "    #y = fit[1] + fit[0]*x\n",
    "    \n",
    "    temp.append(np.mean(temperature[i*voltage_loops:(i+1)*voltage_loops]))\n",
    "    slope.append(fit[0])\n",
    "\n"
   ]
  },
  {
   "cell_type": "code",
   "execution_count": 12,
   "metadata": {
    "collapsed": false
   },
   "outputs": [
    {
     "data": {
      "text/plain": [
       "[<matplotlib.lines.Line2D at 0x87becd0>]"
      ]
     },
     "execution_count": 12,
     "metadata": {},
     "output_type": "execute_result"
    },
    {
     "data": {
      "image/png": "[encoded data removed]",
      "text/plain": [
       "<matplotlib.figure.Figure at 0x8a7f6d0>"
      ]
     },
     "metadata": {},
     "output_type": "display_data"
    }
   ],
   "source": [
    "slopeTempData = np.asarray([temp,slope])\n",
    "plt.figure()\n",
    "plt.ylabel(r'$\\frac{dR_{ii}}{d\\epsilon_{ii}}$')\n",
    "plt.xlabel('Temperature')\n",
    "plt.plot(slopeTempData[0],slopeTempData[1])"
   ]
  },
  {
   "cell_type": "markdown",
   "metadata": {},
   "source": [
    "##5. Set the save file name (and directory)"
   ]
  },
  {
   "cell_type": "code",
   "execution_count": 14,
   "metadata": {
    "collapsed": false
   },
   "outputs": [],
   "source": [
    "saveFileName = \"URu2Si2TestData.csv\"\n",
    "np.savetxt(saveFileName, np.transpose(slopeTempData), delimiter=\",\")"
   ]
  },
  {
   "cell_type": "code",
   "execution_count": null,
   "metadata": {
    "collapsed": false
   },
   "outputs": [],
   "source": []
  }
 ],
 "metadata": {
  "kernelspec": {
   "display_name": "Python 3",
   "language": "python",
   "name": "python3"
  },
  "language_info": {
   "codemirror_mode": {
    "name": "ipython",
    "version": 3
   },
   "file_extension": ".py",
   "mimetype": "text/x-python",
   "name": "python",
   "nbconvert_exporter": "python",
   "pygments_lexer": "ipython3",
   "version": "3.4.3"
  }
 },
 "nbformat": 4,
 "nbformat_minor": 0
}
